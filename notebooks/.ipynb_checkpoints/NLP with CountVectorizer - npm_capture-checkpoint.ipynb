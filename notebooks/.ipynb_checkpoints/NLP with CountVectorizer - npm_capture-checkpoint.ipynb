{
 "cells": [
  {
   "cell_type": "markdown",
   "metadata": {},
   "source": [
    "# Log Analysis with CountVectorizer for npm_capture"
   ]
  },
  {
   "cell_type": "code",
   "execution_count": 1,
   "metadata": {
    "collapsed": false
   },
   "outputs": [],
   "source": [
    "import pandas as pd\n",
    "import plotly.plotly as py"
   ]
  },
  {
   "cell_type": "code",
   "execution_count": 2,
   "metadata": {
    "collapsed": false
   },
   "outputs": [],
   "source": [
    "df = pd.read_csv(\"../input/npm_noh.txt\",sep=';',index_col=False,\n",
    "                 header=None,names=['level','component','file','line_#','function','log_entry'])"
   ]
  },
  {
   "cell_type": "code",
   "execution_count": 3,
   "metadata": {
    "collapsed": false
   },
   "outputs": [
    {
     "data": {
      "text/html": [
       "<div>\n",
       "<style scoped>\n",
       "    .dataframe tbody tr th:only-of-type {\n",
       "        vertical-align: middle;\n",
       "    }\n",
       "\n",
       "    .dataframe tbody tr th {\n",
       "        vertical-align: top;\n",
       "    }\n",
       "\n",
       "    .dataframe thead th {\n",
       "        text-align: right;\n",
       "    }\n",
       "</style>\n",
       "<table border=\"1\" class=\"dataframe\">\n",
       "  <thead>\n",
       "    <tr style=\"text-align: right;\">\n",
       "      <th></th>\n",
       "      <th>level</th>\n",
       "      <th>component</th>\n",
       "      <th>file</th>\n",
       "      <th>line_#</th>\n",
       "      <th>function</th>\n",
       "      <th>log_entry</th>\n",
       "    </tr>\n",
       "  </thead>\n",
       "  <tbody>\n",
       "    <tr>\n",
       "      <th>0</th>\n",
       "      <td>INFO</td>\n",
       "      <td>Pkt_Share</td>\n",
       "      <td>pkt_comm_server.cpp</td>\n",
       "      <td>378</td>\n",
       "      <td>bool npm_capture::pkt_comm_server::request_han...</td>\n",
       "      <td>CLIP CONN alloy_probe_s_0000016839 response: c...</td>\n",
       "    </tr>\n",
       "    <tr>\n",
       "      <th>1</th>\n",
       "      <td>INFO</td>\n",
       "      <td>Pkt_Share</td>\n",
       "      <td>pkt_comm_server.cpp</td>\n",
       "      <td>583</td>\n",
       "      <td>void npm_capture::pkt_comm_server::check_conn_...</td>\n",
       "      <td>CLIP CONN alloy_probe_s_0000016839 scheduled t...</td>\n",
       "    </tr>\n",
       "    <tr>\n",
       "      <th>2</th>\n",
       "      <td>INFO</td>\n",
       "      <td>Pkt_Share</td>\n",
       "      <td>pkt_comm_server.cpp</td>\n",
       "      <td>277</td>\n",
       "      <td>bool npm_capture::pkt_comm_server::request_han...</td>\n",
       "      <td>Connection request: consumer alloy_probe_s_000...</td>\n",
       "    </tr>\n",
       "    <tr>\n",
       "      <th>3</th>\n",
       "      <td>INFO</td>\n",
       "      <td>Pkt_Share</td>\n",
       "      <td>pkt_comm_server.cpp</td>\n",
       "      <td>312</td>\n",
       "      <td>bool npm_capture::pkt_comm_server::request_han...</td>\n",
       "      <td>Clip cmd 0 (id 48447296) on job uuid: e1706e47...</td>\n",
       "    </tr>\n",
       "    <tr>\n",
       "      <th>4</th>\n",
       "      <td>INFO</td>\n",
       "      <td>Pkt_Share</td>\n",
       "      <td>pkt_comm_server.cpp</td>\n",
       "      <td>373</td>\n",
       "      <td>bool npm_capture::pkt_comm_server::request_han...</td>\n",
       "      <td>CLIP CONN alloy_probe_s_0000016840 started cor...</td>\n",
       "    </tr>\n",
       "  </tbody>\n",
       "</table>\n",
       "</div>"
      ],
      "text/plain": [
       "  level  component                 file  line_#  \\\n",
       "0  INFO  Pkt_Share  pkt_comm_server.cpp     378   \n",
       "1  INFO  Pkt_Share  pkt_comm_server.cpp     583   \n",
       "2  INFO  Pkt_Share  pkt_comm_server.cpp     277   \n",
       "3  INFO  Pkt_Share  pkt_comm_server.cpp     312   \n",
       "4  INFO  Pkt_Share  pkt_comm_server.cpp     373   \n",
       "\n",
       "                                            function  \\\n",
       "0  bool npm_capture::pkt_comm_server::request_han...   \n",
       "1  void npm_capture::pkt_comm_server::check_conn_...   \n",
       "2  bool npm_capture::pkt_comm_server::request_han...   \n",
       "3  bool npm_capture::pkt_comm_server::request_han...   \n",
       "4  bool npm_capture::pkt_comm_server::request_han...   \n",
       "\n",
       "                                           log_entry  \n",
       "0  CLIP CONN alloy_probe_s_0000016839 response: c...  \n",
       "1  CLIP CONN alloy_probe_s_0000016839 scheduled t...  \n",
       "2  Connection request: consumer alloy_probe_s_000...  \n",
       "3  Clip cmd 0 (id 48447296) on job uuid: e1706e47...  \n",
       "4  CLIP CONN alloy_probe_s_0000016840 started cor...  "
      ]
     },
     "execution_count": 3,
     "metadata": {},
     "output_type": "execute_result"
    }
   ],
   "source": [
    "df.head()"
   ]
  },
  {
   "cell_type": "code",
   "execution_count": 15,
   "metadata": {
    "collapsed": false
   },
   "outputs": [
    {
     "data": {
      "text/plain": [
       "3852      Consumer probe_aux_all took too long to release buffer (# of slow buffers: 1, slowest: 1997 ms)\n",
       "8459      Consumer probe_aux_all took too long to release buffer (# of slow buffers: 1, slowest: 1062 ms)\n",
       "8460     Consumer probe_aux_all took too long to release buffer (# of slow buffers: 14, slowest: 1310 ms)\n",
       "13644     Consumer probe_aux_all took too long to release buffer (# of slow buffers: 1, slowest: 1737 ms)\n",
       "13647                            probe_all reached max packets buffering and 1948347 pkts will be dropped\n",
       "13648                            probe_all reached max packets buffering and 8117415 pkts will be dropped\n",
       "13649                            probe_all reached max packets buffering and 8239601 pkts will be dropped\n",
       "13650                            probe_all reached max packets buffering and 8259992 pkts will be dropped\n",
       "13651                            probe_all reached max packets buffering and 9032300 pkts will be dropped\n",
       "13652                            probe_all reached max packets buffering and 9187454 pkts will be dropped\n",
       "13653                            probe_all reached max packets buffering and 8480365 pkts will be dropped\n",
       "13654                            probe_all reached max packets buffering and 8781645 pkts will be dropped\n",
       "13655                            probe_all reached max packets buffering and 7992694 pkts will be dropped\n",
       "13656                            probe_all reached max packets buffering and 9247833 pkts will be dropped\n",
       "13657                            probe_all reached max packets buffering and 8708520 pkts will be dropped\n",
       "13720                                                        Failed to contact 'npm.data_manager' service\n",
       "13721                                                          Service 'npm.data_manager' is unresponsive\n",
       "13722                                                                 Failed to contact internal services\n",
       "13724                                                Service unregister failed: LJ unregistration failure\n",
       "13732                                                        Failed to contact 'npm.data_manager' service\n",
       "13733                                                          Service 'npm.data_manager' is unresponsive\n",
       "13734                                                                 Failed to contact internal services\n",
       "13736                                                Service unregister failed: LJ unregistration failure\n",
       "13744                                                        Failed to contact 'npm.data_manager' service\n",
       "13745                                                          Service 'npm.data_manager' is unresponsive\n",
       "13746                                                                 Failed to contact internal services\n",
       "13748                                                Service unregister failed: LJ unregistration failure\n",
       "13756                                                        Failed to contact 'npm.data_manager' service\n",
       "13757                                                          Service 'npm.data_manager' is unresponsive\n",
       "13758                                                                 Failed to contact internal services\n",
       "                                                       ...                                               \n",
       "14312                                                Service unregister failed: LJ unregistration failure\n",
       "14320                                                        Failed to contact 'npm.data_manager' service\n",
       "14321                                                          Service 'npm.data_manager' is unresponsive\n",
       "14322                                                                 Failed to contact internal services\n",
       "14324                                                Service unregister failed: LJ unregistration failure\n",
       "14332                                                        Failed to contact 'npm.data_manager' service\n",
       "14333                                                          Service 'npm.data_manager' is unresponsive\n",
       "14334                                                                 Failed to contact internal services\n",
       "14336                                                Service unregister failed: LJ unregistration failure\n",
       "14344                                                        Failed to contact 'npm.data_manager' service\n",
       "14345                                                          Service 'npm.data_manager' is unresponsive\n",
       "14346                                                                 Failed to contact internal services\n",
       "14348                                                Service unregister failed: LJ unregistration failure\n",
       "14356                                                        Failed to contact 'npm.data_manager' service\n",
       "14357                                                          Service 'npm.data_manager' is unresponsive\n",
       "14358                                                                 Failed to contact internal services\n",
       "14360                                                Service unregister failed: LJ unregistration failure\n",
       "14368                                                        Failed to contact 'npm.data_manager' service\n",
       "14369                                                          Service 'npm.data_manager' is unresponsive\n",
       "14370                                                                 Failed to contact internal services\n",
       "14372                                                Service unregister failed: LJ unregistration failure\n",
       "14380                                                        Failed to contact 'npm.data_manager' service\n",
       "14381                                                          Service 'npm.data_manager' is unresponsive\n",
       "14382                                                                 Failed to contact internal services\n",
       "14384                                                Service unregister failed: LJ unregistration failure\n",
       "14392                                                        Failed to contact 'npm.data_manager' service\n",
       "14393                                                          Service 'npm.data_manager' is unresponsive\n",
       "14394                                                                 Failed to contact internal services\n",
       "14396                                                Service unregister failed: LJ unregistration failure\n",
       "14477                                               The block cache file is corrupted and will be removed\n",
       "Name: log_entry, Length: 244, dtype: object"
      ]
     },
     "execution_count": 15,
     "metadata": {},
     "output_type": "execute_result"
    }
   ],
   "source": [
    "# check for non INFO logs as well as any specific string within log entry\n",
    "pd.options.display.max_colwidth = 100 # controls max display\n",
    "#df[(df.level != 'INFO') & ~df.log_entry.str.contains(\"too long\")]['log_entry']\n",
    "df = df[df.level != 'INFO']\n",
    "df[:]['log_entry']"
   ]
  },
  {
   "cell_type": "markdown",
   "metadata": {},
   "source": [
    "## Count Unigrams"
   ]
  },
  {
   "cell_type": "code",
   "execution_count": 10,
   "metadata": {
    "collapsed": false
   },
   "outputs": [
    {
     "name": "stdout",
     "output_type": "stream",
     "text": [
      "service 171\n",
      "failed 171\n",
      "data_manager 114\n",
      "npm 114\n",
      "contact 114\n",
      "unresponsive 57\n",
      "services 57\n",
      "internal 57\n",
      "unregister 57\n",
      "unregistration 57\n",
      "failure 57\n",
      "lj 57\n",
      "max 11\n",
      "pkts 11\n",
      "packets 11\n",
      "buffering 11\n",
      "probe_all 11\n",
      "dropped 11\n",
      "reached 11\n",
      "release 4\n"
     ]
    }
   ],
   "source": [
    "from sklearn.feature_extraction.text import CountVectorizer\n",
    "\n",
    "def get_top_n_words(corpus, n=None):\n",
    "    vec = CountVectorizer(stop_words = 'english').fit(corpus)\n",
    "    bag_of_words = vec.transform(corpus)\n",
    "    sum_words = bag_of_words.sum(axis=0) \n",
    "    words_freq = [(word, sum_words[0, idx]) for word, idx in vec.vocabulary_.items()]\n",
    "    words_freq =sorted(words_freq, key = lambda x: x[1], reverse=True)\n",
    "    return words_freq[:n]\n",
    "common_words = get_top_n_words(df['log_entry'], 20)\n",
    "for word, freq in common_words:\n",
    "    print(word, freq)"
   ]
  },
  {
   "cell_type": "markdown",
   "metadata": {},
   "source": [
    "## Bigrams"
   ]
  },
  {
   "cell_type": "code",
   "execution_count": 11,
   "metadata": {
    "collapsed": false
   },
   "outputs": [
    {
     "name": "stdout",
     "output_type": "stream",
     "text": [
      "to contact 114\n",
      "failed to 114\n",
      "npm data_manager 114\n",
      "service unregister 57\n",
      "unregister failed 57\n",
      "service npm 57\n",
      "unregistration failure 57\n",
      "failed lj 57\n",
      "internal services 57\n",
      "data_manager is 57\n",
      "data_manager service 57\n",
      "is unresponsive 57\n",
      "contact npm 57\n",
      "contact internal 57\n",
      "lj unregistration 57\n",
      "will be 12\n",
      "pkts will 11\n",
      "reached max 11\n",
      "probe_all reached 11\n",
      "buffering and 11\n"
     ]
    }
   ],
   "source": [
    "def get_top_n_bigram(corpus, n=None):\n",
    "    vec = CountVectorizer(ngram_range=(2, 2)).fit(corpus)\n",
    "    bag_of_words = vec.transform(corpus)\n",
    "    sum_words = bag_of_words.sum(axis=0) \n",
    "    words_freq = [(word, sum_words[0, idx]) for word, idx in vec.vocabulary_.items()]\n",
    "    words_freq =sorted(words_freq, key = lambda x: x[1], reverse=True)\n",
    "    return words_freq[:n]\n",
    "common_words = get_top_n_bigram(df['log_entry'], 20)\n",
    "for word, freq in common_words:\n",
    "    print(word, freq)"
   ]
  },
  {
   "cell_type": "markdown",
   "metadata": {},
   "source": [
    "## Trigrams"
   ]
  },
  {
   "cell_type": "code",
   "execution_count": 12,
   "metadata": {
    "collapsed": false
   },
   "outputs": [
    {
     "name": "stdout",
     "output_type": "stream",
     "text": [
      "failed to contact \t 114\n",
      "unregister failed lj \t 57\n",
      "lj unregistration failure \t 57\n",
      "service unregister failed \t 57\n",
      "data_manager is unresponsive \t 57\n",
      "to contact internal \t 57\n",
      "contact internal services \t 57\n",
      "service npm data_manager \t 57\n",
      "npm data_manager service \t 57\n",
      "contact npm data_manager \t 57\n",
      "to contact npm \t 57\n",
      "failed lj unregistration \t 57\n",
      "npm data_manager is \t 57\n",
      "packets buffering and \t 11\n",
      "pkts will be \t 11\n",
      "probe_all reached max \t 11\n",
      "reached max packets \t 11\n",
      "will be dropped \t 11\n",
      "max packets buffering \t 11\n",
      "took too long \t 4\n"
     ]
    }
   ],
   "source": [
    "def get_top_n_trigram(corpus, n=None):\n",
    "    vec = CountVectorizer(ngram_range=(3, 3)).fit(corpus)\n",
    "    bag_of_words = vec.transform(corpus)\n",
    "    sum_words = bag_of_words.sum(axis=0) \n",
    "    words_freq = [(word, sum_words[0, idx]) for word, idx in vec.vocabulary_.items()]\n",
    "    words_freq =sorted(words_freq, key = lambda x: x[1], reverse=True)\n",
    "    return words_freq[:n]\n",
    "common_words = get_top_n_trigram(df['log_entry'], 20)\n",
    "for word, freq in common_words:\n",
    "    print(word,\"\\t\",freq)"
   ]
  },
  {
   "cell_type": "code",
   "execution_count": null,
   "metadata": {
    "collapsed": true
   },
   "outputs": [],
   "source": []
  }
 ],
 "metadata": {
  "anaconda-cloud": {},
  "kernelspec": {
   "display_name": "Python [conda root]",
   "language": "python",
   "name": "conda-root-py"
  },
  "language_info": {
   "codemirror_mode": {
    "name": "ipython",
    "version": 3
   },
   "file_extension": ".py",
   "mimetype": "text/x-python",
   "name": "python",
   "nbconvert_exporter": "python",
   "pygments_lexer": "ipython3",
   "version": "3.5.2"
  }
 },
 "nbformat": 4,
 "nbformat_minor": 2
}
