{
 "cells": [
  {
   "cell_type": "markdown",
   "metadata": {},
   "source": [
    "# NLP Analysis of ARX HSC logs"
   ]
  },
  {
   "cell_type": "code",
   "execution_count": 1,
   "metadata": {
    "collapsed": true
   },
   "outputs": [],
   "source": [
    "import spacy\n",
    "import matplotlib.pyplot as plt\n",
    "%matplotlib inline"
   ]
  },
  {
   "cell_type": "markdown",
   "metadata": {},
   "source": [
    "### Read the log file"
   ]
  },
  {
   "cell_type": "code",
   "execution_count": 3,
   "metadata": {
    "collapsed": false
   },
   "outputs": [],
   "source": [
    "# load a medium-sized language model\n",
    "nlp = spacy.load(\"en_core_web_md\")\n",
    "\n",
    "with open('../input/op_hsc_server.log', 'r') as file:\n",
    "    text = file.read()\n",
    "    \n",
    "doc = nlp(text)"
   ]
  },
  {
   "cell_type": "markdown",
   "metadata": {
    "collapsed": true
   },
   "source": [
    "## Find the common verb"
   ]
  },
  {
   "cell_type": "code",
   "execution_count": 25,
   "metadata": {
    "collapsed": false
   },
   "outputs": [],
   "source": [
    "def produce_plot(result, kind):\n",
    "    \"\"\"Save plot of result\n",
    "    Parameters:\n",
    "    result: data to draw\n",
    "    kind: type of data used to plot\n",
    "    \"\"\"\n",
    "    \n",
    "    plt.bar(range(len(result)),[v for k,v in result], align='center', alpha=0.5)\n",
    "    plt.ylabel('total')\n",
    "    plt.xticks(range(len(result)), [k for k,v in result])\n",
    "    plt.xlabel('term')\n",
    "    plt.xticks(rotation=90, fontsize=8)\n",
    "    plt.title(\"Top {}{}\".format(kind, 's'))\n",
    "    #plt.subplots_adjust(bottom=0.30)"
   ]
  },
  {
   "cell_type": "code",
   "execution_count": 26,
   "metadata": {
    "collapsed": false
   },
   "outputs": [
    {
     "name": "stdout",
     "output_type": "stream",
     "text": [
      "top 10 ADJs [('info', 8900), ('lndr', 3841), ('warning', 3449), ('consumer', 3023), ('cmgr', 2260), ('buf_client_manager', 1822), ('shbuf_producer', 1732), ('client', 1339), ('thread', 1262), ('buffer', 1216)]\n"
     ]
    },
    {
     "data": {
      "image/png": "[encoded data removed]",
      "text/plain": [
       "<matplotlib.figure.Figure at 0x13b0056a0>"
      ]
     },
     "metadata": {},
     "output_type": "display_data"
    }
   ],
   "source": [
    "# map with frequency count\n",
    "pos_count = {}\n",
    "pos = 'NOUN'\n",
    "for token in doc:\n",
    "    # ignore stop words\n",
    "    if token.is_stop:\n",
    "        continue\n",
    "\n",
    "    # pos should be one of these:\n",
    "    # 'VERB', 'NOUN', 'ADJ' or 'ADV'\n",
    "    if token.pos_ == pos:\n",
    "        if token.lemma_ in pos_count:\n",
    "            pos_count[token.lemma_] += 1\n",
    "        else:\n",
    "            pos_count[token.lemma_] = 1\n",
    "\n",
    "result = sorted({k: v for (k, v) in pos_count.items() if v > 1}.items(),key=lambda kv: kv[1], reverse=True)[:10]\n",
    "print(\"top 10 ADJs {}\".format(result))\n",
    "\n",
    "produce_plot(result, pos)"
   ]
  },
  {
   "cell_type": "code",
   "execution_count": 7,
   "metadata": {
    "collapsed": false
   },
   "outputs": [
    {
     "ename": "AttributeError",
     "evalue": "'dict' object has no attribute 'sort_values'",
     "output_type": "error",
     "traceback": [
      "\u001b[0;31m---------------------------------------------------------------------------\u001b[0m",
      "\u001b[0;31mAttributeError\u001b[0m                            Traceback (most recent call last)",
      "\u001b[0;32m<ipython-input-7-fda46a86d138>\u001b[0m in \u001b[0;36m<module>\u001b[0;34m()\u001b[0m\n\u001b[0;32m----> 1\u001b[0;31m pos_count.sort_values(ascending=False).iplot(kind='bar', yTitle='Number of Complaints', \n\u001b[0m\u001b[1;32m      2\u001b[0m title='Number complaints in each product')\n",
      "\u001b[0;31mAttributeError\u001b[0m: 'dict' object has no attribute 'sort_values'"
     ]
    }
   ],
   "source": [
    "\n"
   ]
  },
  {
   "cell_type": "code",
   "execution_count": null,
   "metadata": {
    "collapsed": true
   },
   "outputs": [],
   "source": []
  }
 ],
 "metadata": {
  "anaconda-cloud": {},
  "kernelspec": {
   "display_name": "Python [conda root]",
   "language": "python",
   "name": "conda-root-py"
  },
  "language_info": {
   "codemirror_mode": {
    "name": "ipython",
    "version": 3
   },
   "file_extension": ".py",
   "mimetype": "text/x-python",
   "name": "python",
   "nbconvert_exporter": "python",
   "pygments_lexer": "ipython3",
   "version": "3.5.2"
  }
 },
 "nbformat": 4,
 "nbformat_minor": 2
}
